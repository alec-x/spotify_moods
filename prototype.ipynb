{
 "cells": [
  {
   "cell_type": "markdown",
   "metadata": {},
   "source": [
    "# Load Credentials\n",
    "load credentials from id.json into env vars"
   ]
  },
  {
   "cell_type": "markdown",
   "metadata": {},
   "source": [
    "# Get all liked songs"
   ]
  },
  {
   "cell_type": "code",
   "execution_count": null,
   "metadata": {},
   "outputs": [],
   "source": [
    "import spotipy\n",
    "import spotify_moods.auth as auth\n",
    "import spotify_moods.spotify_moods as moods\n",
    "import spotipy.util as util"
   ]
  },
  {
   "cell_type": "code",
   "execution_count": null,
   "metadata": {},
   "outputs": [],
   "source": [
    "scope = 'user-library-read playlist-modify-private'\n",
    "username = 'alecxu'\n",
    "\n",
    "auth.export_client_id('id.json')\n",
    "sp = auth.user_auth(username, scope)\n",
    "\n",
    "results = moods.get_all_songs(sp)"
   ]
  },
  {
   "cell_type": "code",
   "execution_count": null,
   "metadata": {},
   "outputs": [],
   "source": [
    "song_name_dict = {result['name'] : i for i, result in enumerate(results)}"
   ]
  },
  {
   "cell_type": "markdown",
   "metadata": {},
   "source": [
    "# Get audio features for all liked songs"
   ]
  },
  {
   "cell_type": "code",
   "execution_count": null,
   "metadata": {},
   "outputs": [],
   "source": [
    "num_songs_total = sp.current_user_saved_tracks(limit=1)['total']\n",
    "uri_list = []\n",
    "for result in results:\n",
    "    uri_list.append(result[\"uri\"])\n",
    "\n",
    "audio_features = moods.get_audio_features(sp, uri_list)"
   ]
  },
  {
   "cell_type": "markdown",
   "metadata": {},
   "source": [
    "# Group Liked Songs using metadata"
   ]
  },
  {
   "cell_type": "markdown",
   "metadata": {},
   "source": [
    "# Extract \"Useful\" features for song recommendations"
   ]
  },
  {
   "cell_type": "markdown",
   "metadata": {},
   "source": [
    "*Useful features queried from spotify*\n",
    "1. 2. Danceability/Energy: Seems like gradient goes from more to less quite reliably, Seems highly correlated\n",
    "3. Mode: Major/Minor, very well clustered. COULD be useful or not should try out before conclusion\n",
    "4. Speechiness: All speechy songs are in one place, can probably use\n",
    "5. 6. Acousticness/Instrumentalness: Seems like instrumental is almost strictly superset, these are well clustered\n",
    "7. Liveness: seems well clusterd\n",
    "8. Valence: \"Happiness\" Seems very important although not the best clustered. Local clusters"
   ]
  },
  {
   "cell_type": "markdown",
   "metadata": {},
   "source": [
    "### Convert audio feature dict into numpy array for processing"
   ]
  },
  {
   "cell_type": "code",
   "execution_count": null,
   "metadata": {},
   "outputs": [],
   "source": [
    "import numpy as np\n",
    "af_used = ['danceability', 'energy', 'mode', 'speechiness', 'acousticness', 'instrumentalness', 'liveness', 'valence']\n",
    "audio_features_arr = np.zeros((num_songs_total, len(af_used)))\n",
    "\n",
    "for i in range(num_songs_total):\n",
    "    for j, audio_feature in enumerate(af_used):\n",
    "        audio_features_arr[i][j] = audio_features[i][audio_feature]"
   ]
  },
  {
   "cell_type": "markdown",
   "metadata": {},
   "source": [
    "## Standardize Data"
   ]
  },
  {
   "cell_type": "code",
   "execution_count": null,
   "metadata": {},
   "outputs": [],
   "source": [
    "from sklearn.decomposition import PCA\n",
    "from sklearn.preprocessing import StandardScaler\n",
    "import pandas as pd\n",
    "\n",
    "sc = StandardScaler()\n",
    "sc.fit(audio_features_arr)\n",
    "\n",
    "std_data = sc.transform(audio_features_arr)\n",
    "\n",
    "num_comp = 2\n",
    "pca = PCA(n_components=num_comp)\n",
    "pca.fit(std_data)\n",
    "pca_result = pca.transform(std_data)\n"
   ]
  },
  {
   "cell_type": "code",
   "execution_count": null,
   "metadata": {},
   "outputs": [],
   "source": [
    "from matplotlib import pyplot as plt\n",
    "import seaborn as sns\n",
    "def graph_embeddings(results: np.array, names: list, figsize=(5,5)):\n",
    "\n",
    "\n",
    "    df_data = pd.DataFrame(results, columns=['data-one', 'data-two'])\n",
    "\n",
    "    for i in range(len(names)):  \n",
    "        df_data['label'] = audio_features_arr[:,i]\n",
    "        plt.figure(figsize=figsize)\n",
    "        sns.scatterplot(\n",
    "            x=\"data-one\", y=\"data-two\",\n",
    "            hue=\"label\",\n",
    "            data=df_data,\n",
    "            alpha=0.5\n",
    "        )\n",
    "        plt.title(names[i])\n",
    "        plt.show() "
   ]
  },
  {
   "cell_type": "code",
   "execution_count": null,
   "metadata": {},
   "outputs": [],
   "source": [
    "from sklearn.manifold import TSNE\n",
    "import warnings\n",
    "warnings.filterwarnings('ignore')\n",
    "\n",
    "TSNE = TSNE(n_components=2, perplexity=50, n_iter=5000, learning_rate=200)\n",
    "tsne_results = TSNE.fit_transform(std_data)"
   ]
  },
  {
   "cell_type": "code",
   "execution_count": null,
   "metadata": {},
   "outputs": [],
   "source": [
    "graph_embeddings(tsne_results, af_used)"
   ]
  },
  {
   "cell_type": "code",
   "execution_count": null,
   "metadata": {},
   "outputs": [],
   "source": [
    "import umap\n",
    "umap_results = umap.UMAP().fit_transform(std_data)"
   ]
  },
  {
   "cell_type": "code",
   "execution_count": null,
   "metadata": {},
   "outputs": [],
   "source": [
    "graph_embeddings(umap_results, af_used)"
   ]
  },
  {
   "cell_type": "code",
   "execution_count": null,
   "metadata": {},
   "outputs": [],
   "source": [
    "song_name = \"Hope\"\n",
    "song_index = song_name_dict[song_name]\n",
    "song_coords = umap_results[song_index]\n",
    "\n",
    "sim_songs = moods.return_similar_songs(umap_results, song_coords, 30)\n",
    "song_names = {'recommendations': [results[res][\"name\"] for res in sim_songs]}\n",
    "song_names_df = pd.DataFrame.from_dict(song_names,orient='index').transpose()\n",
    "song_names_df"
   ]
  },
  {
   "cell_type": "code",
   "execution_count": null,
   "metadata": {},
   "outputs": [],
   "source": [
    "song_ids = [results[res][\"uri\"] for res in sim_songs]\n",
    "\n",
    "playlist_name = f\"songs similar to {song_name}\"\n",
    "playlist = sp.user_playlist_create(sp.current_user()['id'], playlist_name, public=True, collaborative=False, description=\"testing create playlist function\")\n",
    "playlist_results = sp.user_playlist_add_tracks(username, playlist['id'], song_ids)"
   ]
  }
 ],
 "metadata": {
  "interpreter": {
   "hash": "52aa7ee1ac1498e1a73c78fa29cba36afa4e7543153dbd9fb41a174a016651b8"
  },
  "kernelspec": {
   "display_name": "Python 3.10.4 ('spotify_moods')",
   "language": "python",
   "name": "python3"
  },
  "language_info": {
   "codemirror_mode": {
    "name": "ipython",
    "version": 3
   },
   "file_extension": ".py",
   "mimetype": "text/x-python",
   "name": "python",
   "nbconvert_exporter": "python",
   "pygments_lexer": "ipython3",
   "version": "3.10.4"
  },
  "orig_nbformat": 4
 },
 "nbformat": 4,
 "nbformat_minor": 2
}
