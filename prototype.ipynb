{
 "cells": [
  {
   "cell_type": "markdown",
   "metadata": {},
   "source": [
    "# Load Credentials\n",
    "load credentials from id.json into env vars"
   ]
  },
  {
   "cell_type": "code",
   "execution_count": null,
   "metadata": {},
   "outputs": [],
   "source": [
    "import json\n",
    "import os\n",
    "\n",
    "with open('id.json', 'r') as f:\n",
    "  data = json.load(f)\n",
    "\n",
    "os.environ[\"SPOTIPY_CLIENT_ID\"] = data[\"client_id\"]\n",
    "os.environ[\"SPOTIPY_CLIENT_SECRET\"] = data[\"client_secret\"]\n",
    "os.environ[\"SPOTIPY_REDIRECT_URI\"] = r'http://localhost:8080'"
   ]
  },
  {
   "cell_type": "markdown",
   "metadata": {},
   "source": [
    "# Get all liked songs"
   ]
  },
  {
   "cell_type": "code",
   "execution_count": null,
   "metadata": {},
   "outputs": [],
   "source": [
    "import spotipy\n",
    "from spotipy.oauth2 import SpotifyOAuth\n",
    "\n",
    "scope = \"user-library-read\"\n",
    "sp = spotipy.Spotify(auth_manager=SpotifyOAuth(scope=scope))\n",
    "\n",
    "results = []\n",
    "\n",
    "offset = 0\n",
    "num_songs_total = sp.current_user_saved_tracks(limit=1)['total']\n",
    "\n",
    "# Information returned in batches in dictionary\n",
    "while offset < num_songs_total:\n",
    "    print(f\"Processing batch: {offset}/{num_songs_total}\", end='\\r')\n",
    "    curr_batch = sp.current_user_saved_tracks(limit=50, offset=offset)['items']\n",
    "    for track in curr_batch:\n",
    "        res = track['track']\n",
    "        del res['available_markets']\n",
    "        del res['album']['available_markets']\n",
    "        results.append(res)\n",
    "        \n",
    "    offset += 50\n",
    "    \n",
    "print(\"\\nFinished loading liked songs\")"
   ]
  },
  {
   "cell_type": "markdown",
   "metadata": {},
   "source": [
    "# Get audio features for all liked songs"
   ]
  },
  {
   "cell_type": "code",
   "execution_count": null,
   "metadata": {},
   "outputs": [],
   "source": [
    "offset = 0\n",
    "batch_size = 100\n",
    "while offset < num_songs_total:\n",
    "    # compile list to give query\n",
    "    print(f\"Processing batch: {offset}/{num_songs_total}\", end='\\r')\n",
    "    uri_list = []\n",
    "\n",
    "    curr_size = min(batch_size, num_songs_total - offset)\n",
    "    for i in range(curr_size):\n",
    "        uri_list.append(results[offset+i][\"uri\"])\n",
    "\n",
    "    # conduct query\n",
    "    curr_batch = sp.audio_features(uri_list)\n",
    "\n",
    "    # associate query result with existing results dictionary\n",
    "    keys_i_hate = ['id', 'type', 'uri', 'track_href', 'analysis_url', 'duration_ms', 'time_signature']\n",
    "    for i in range(curr_size):\n",
    "        for key in keys_i_hate:\n",
    "            del curr_batch[i][key]\n",
    "        results[offset+i][\"audio_features\"] =  curr_batch[i]\n",
    "\n",
    "    # increment batch (can also be done outside of loop)\n",
    "    offset += batch_size"
   ]
  },
  {
   "cell_type": "markdown",
   "metadata": {},
   "source": [
    "# Group Liked Songs using metadata"
   ]
  },
  {
   "cell_type": "markdown",
   "metadata": {},
   "source": [
    "# Extract \"Useful\" features for song recommendations"
   ]
  },
  {
   "cell_type": "markdown",
   "metadata": {},
   "source": [
    "*Useful features queried from spotify*\n",
    "1. 2. Danceability/Energy: Seems like gradient goes from more to less quite reliably, Seems highly correlated\n",
    "3. Mode: Major/Minor, very well clustered. COULD be useful or not should try out before conclusion\n",
    "4. Speechiness: All speechy songs are in one place, can probably use\n",
    "5. 6. Acousticness/Instrumentalness: Seems like instrumental is almost strictly superset, these are well clustered\n",
    "7. Liveness: seems well clusterd\n",
    "8. Valence: \"Happiness\" Seems very important although not the best clustered. Local clusters"
   ]
  },
  {
   "cell_type": "code",
   "execution_count": null,
   "metadata": {},
   "outputs": [],
   "source": []
  },
  {
   "cell_type": "markdown",
   "metadata": {},
   "source": [
    "### Convert audio feature dict into numpy array for processing"
   ]
  },
  {
   "cell_type": "code",
   "execution_count": null,
   "metadata": {},
   "outputs": [],
   "source": [
    "import numpy as np\n",
    "af_used = ['danceability', 'energy', 'mode', 'speechiness', 'acousticness', 'instrumentalness', 'liveness', 'valence']\n",
    "audio_features_arr = np.zeros((num_songs_total, len(af_used)))\n",
    "\n",
    "for i in range(num_songs_total):\n",
    "    for j, audio_feature in enumerate(af_used):\n",
    "        audio_features_arr[i][j] = results[i]['audio_features'][audio_feature]"
   ]
  },
  {
   "cell_type": "markdown",
   "metadata": {},
   "source": [
    "## Standardize Data"
   ]
  },
  {
   "cell_type": "code",
   "execution_count": null,
   "metadata": {},
   "outputs": [],
   "source": [
    "from sklearn.decomposition import PCA\n",
    "from sklearn.preprocessing import StandardScaler\n",
    "import pandas as pd\n",
    "\n",
    "sc = StandardScaler()\n",
    "sc.fit(audio_features_arr)\n",
    "\n",
    "std_data = sc.transform(audio_features_arr)\n",
    "\n",
    "num_comp = 2\n",
    "pca = PCA(n_components=num_comp)\n",
    "pca.fit(std_data)\n",
    "pca_result = pca.transform(std_data)\n"
   ]
  },
  {
   "cell_type": "code",
   "execution_count": null,
   "metadata": {},
   "outputs": [],
   "source": [
    "from matplotlib import pyplot as plt\n",
    "import seaborn as sns\n",
    "def graph_embeddings(results: np.array, names: list, figsize=(5,5)):\n",
    "\n",
    "\n",
    "    df_data = pd.DataFrame(results, columns=['data-one', 'data-two'])\n",
    "\n",
    "    for i in range(len(names)):  \n",
    "        df_data['label'] = audio_features_arr[:,i]\n",
    "        plt.figure(figsize=figsize)\n",
    "        sns.scatterplot(\n",
    "            x=\"data-one\", y=\"data-two\",\n",
    "            hue=\"label\",\n",
    "            data=df_data,\n",
    "            alpha=0.5\n",
    "        )\n",
    "        plt.title(names[i])\n",
    "        plt.show() "
   ]
  },
  {
   "cell_type": "code",
   "execution_count": null,
   "metadata": {},
   "outputs": [],
   "source": [
    "from sklearn.manifold import TSNE\n",
    "import warnings\n",
    "warnings.filterwarnings('ignore')\n",
    "\n",
    "TSNE = TSNE(n_components=2, perplexity=50, n_iter=5000, learning_rate=200)\n",
    "tsne_results = TSNE.fit_transform(std_data)"
   ]
  },
  {
   "cell_type": "code",
   "execution_count": null,
   "metadata": {},
   "outputs": [],
   "source": [
    "graph_embeddings(tsne_results, af_used)"
   ]
  },
  {
   "cell_type": "code",
   "execution_count": null,
   "metadata": {},
   "outputs": [],
   "source": [
    "import umap\n",
    "umap_results = umap.UMAP().fit_transform(std_data)"
   ]
  },
  {
   "cell_type": "code",
   "execution_count": null,
   "metadata": {},
   "outputs": [],
   "source": [
    "print(umap_results.shape)"
   ]
  },
  {
   "cell_type": "code",
   "execution_count": null,
   "metadata": {},
   "outputs": [],
   "source": [
    "graph_embeddings(umap_results, af_used)"
   ]
  },
  {
   "cell_type": "code",
   "execution_count": null,
   "metadata": {},
   "outputs": [],
   "source": [
    "from sklearn.manifold import MDS\n",
    "mds_results = MDS().fit_transform(std_data)"
   ]
  },
  {
   "cell_type": "code",
   "execution_count": null,
   "metadata": {},
   "outputs": [],
   "source": [
    "print(mds_results.shape)"
   ]
  },
  {
   "cell_type": "code",
   "execution_count": null,
   "metadata": {},
   "outputs": [],
   "source": [
    "graph_embeddings(mds_results, af_used)"
   ]
  },
  {
   "cell_type": "code",
   "execution_count": null,
   "metadata": {},
   "outputs": [],
   "source": [
    "def return_sugggestions_on_song(song_coords: list, num_songs_return: int) -> list:\n",
    "    return None"
   ]
  },
  {
   "cell_type": "code",
   "execution_count": null,
   "metadata": {},
   "outputs": [],
   "source": [
    "# Receive a song name\n",
    "\n",
    "# look up coordinates of song name from the big numpy table\n",
    "\n",
    "# plug table into return_suggestion_on_song\n",
    "\n",
    "print(return_sugggestions_on_song([TODO]))"
   ]
  }
 ],
 "metadata": {
  "interpreter": {
   "hash": "52aa7ee1ac1498e1a73c78fa29cba36afa4e7543153dbd9fb41a174a016651b8"
  },
  "kernelspec": {
   "display_name": "Python 3.10.4 ('spotify_moods')",
   "language": "python",
   "name": "python3"
  },
  "language_info": {
   "codemirror_mode": {
    "name": "ipython",
    "version": 3
   },
   "file_extension": ".py",
   "mimetype": "text/x-python",
   "name": "python",
   "nbconvert_exporter": "python",
   "pygments_lexer": "ipython3",
   "version": "3.10.4"
  },
  "orig_nbformat": 4
 },
 "nbformat": 4,
 "nbformat_minor": 2
}
