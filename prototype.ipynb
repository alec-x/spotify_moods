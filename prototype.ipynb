{
 "cells": [
  {
   "cell_type": "markdown",
   "metadata": {},
   "source": [
    "# Load Credentials\n",
    "load credentials from id.json into env vars"
   ]
  },
  {
   "cell_type": "code",
   "execution_count": null,
   "metadata": {},
   "outputs": [],
   "source": [
    "import json\n",
    "import os\n",
    "\n",
    "with open('id.json', 'r') as f:\n",
    "  data = json.load(f)\n",
    "\n",
    "os.environ[\"SPOTIPY_CLIENT_ID\"] = data[\"client_id\"]\n",
    "os.environ[\"SPOTIPY_CLIENT_SECRET\"] = data[\"client_secret\"]\n",
    "os.environ[\"SPOTIPY_REDIRECT_URI\"] = r'http://localhost:8080'"
   ]
  },
  {
   "cell_type": "markdown",
   "metadata": {},
   "source": [
    "# Get all liked songs"
   ]
  },
  {
   "cell_type": "code",
   "execution_count": null,
   "metadata": {},
   "outputs": [],
   "source": [
    "import spotipy\n",
    "from spotipy.oauth2 import SpotifyOAuth\n",
    "\n",
    "scope = \"user-library-read\"\n",
    "sp = spotipy.Spotify(auth_manager=SpotifyOAuth(scope=scope))\n",
    "\n",
    "results = []\n",
    "\n",
    "offset = 0\n",
    "num_songs_total = sp.current_user_saved_tracks(limit=1)['total']\n",
    "while offset < num_songs_total:\n",
    "    print(f\"Processing batch: {offset}/{num_songs_total}\", end='\\r')\n",
    "    results.append(sp.current_user_saved_tracks(limit=50, offset=offset))\n",
    "    offset += 50\n",
    "\n",
    "print(\"\\nFinished loading liked songs\")"
   ]
  },
  {
   "cell_type": "code",
   "execution_count": null,
   "metadata": {},
   "outputs": [],
   "source": [
    "for idx, item in enumerate(results['items']):\n",
    "    track = item['track']\n",
    "    print(idx, track['artists'][0]['name'], \" - \", track['name'])"
   ]
  }
 ],
 "metadata": {
  "interpreter": {
   "hash": "a0c1e4d562b5f812171e22f6ff609450df3e58f284a941217b67c967f7209e2f"
  },
  "kernelspec": {
   "display_name": "Python 3.10.4 ('spotify_moods')",
   "language": "python",
   "name": "python3"
  },
  "language_info": {
   "codemirror_mode": {
    "name": "ipython",
    "version": 3
   },
   "file_extension": ".py",
   "mimetype": "text/x-python",
   "name": "python",
   "nbconvert_exporter": "python",
   "pygments_lexer": "ipython3",
   "version": "3.10.4"
  },
  "orig_nbformat": 4
 },
 "nbformat": 4,
 "nbformat_minor": 2
}
