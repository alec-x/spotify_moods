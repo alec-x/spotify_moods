{
 "cells": [
  {
   "cell_type": "markdown",
   "metadata": {},
   "source": [
    "# Load Credentials\n",
    "load credentials from id.json into env vars"
   ]
  },
  {
   "cell_type": "markdown",
   "metadata": {},
   "source": [
    "# Get all liked songs"
   ]
  },
  {
   "cell_type": "code",
   "execution_count": 10,
   "metadata": {},
   "outputs": [],
   "source": [
    "import spotify_moods.moods as moods\n",
    "import uuid\n",
    "import requests\n",
    "import os"
   ]
  },
  {
   "cell_type": "code",
   "execution_count": 2,
   "metadata": {},
   "outputs": [
    {
     "ename": "NameError",
     "evalue": "name 'spotipy' is not defined",
     "output_type": "error",
     "traceback": [
      "\u001b[1;31m---------------------------------------------------------------------------\u001b[0m",
      "\u001b[1;31mNameError\u001b[0m                                 Traceback (most recent call last)",
      "\u001b[1;32mc:\\Repos\\spotify_moods\\backend\\prototype.ipynb Cell 4\u001b[0m in \u001b[0;36m<cell line: 6>\u001b[1;34m()\u001b[0m\n\u001b[0;32m      <a href='vscode-notebook-cell:/c%3A/Repos/spotify_moods/backend/prototype.ipynb#ch0000003?line=1'>2</a>\u001b[0m username \u001b[39m=\u001b[39m \u001b[39m'\u001b[39m\u001b[39malecxu\u001b[39m\u001b[39m'\u001b[39m\n\u001b[0;32m      <a href='vscode-notebook-cell:/c%3A/Repos/spotify_moods/backend/prototype.ipynb#ch0000003?line=3'>4</a>\u001b[0m moods\u001b[39m.\u001b[39mexport_client_id(\u001b[39m'\u001b[39m\u001b[39mid.json\u001b[39m\u001b[39m'\u001b[39m)\n\u001b[1;32m----> <a href='vscode-notebook-cell:/c%3A/Repos/spotify_moods/backend/prototype.ipynb#ch0000003?line=5'>6</a>\u001b[0m creds \u001b[39m=\u001b[39m spotipy\u001b[39m.\u001b[39moauth2\u001b[39m.\u001b[39mSpotifyOAuth(scope\u001b[39m=\u001b[39m\u001b[39m'\u001b[39m\u001b[39muser-library-read playlist-modify-private\u001b[39m\u001b[39m'\u001b[39m,\n\u001b[0;32m      <a href='vscode-notebook-cell:/c%3A/Repos/spotify_moods/backend/prototype.ipynb#ch0000003?line=6'>7</a>\u001b[0m                                             show_dialog\u001b[39m=\u001b[39m\u001b[39mTrue\u001b[39;00m)\n\u001b[0;32m      <a href='vscode-notebook-cell:/c%3A/Repos/spotify_moods/backend/prototype.ipynb#ch0000003?line=7'>8</a>\u001b[0m sp \u001b[39m=\u001b[39m spotipy\u001b[39m.\u001b[39mSpotify(client_credentials_manager\u001b[39m=\u001b[39mcreds)\n\u001b[0;32m      <a href='vscode-notebook-cell:/c%3A/Repos/spotify_moods/backend/prototype.ipynb#ch0000003?line=8'>9</a>\u001b[0m results \u001b[39m=\u001b[39m moods\u001b[39m.\u001b[39mget_all_songs(sp)\n",
      "\u001b[1;31mNameError\u001b[0m: name 'spotipy' is not defined"
     ]
    }
   ],
   "source": [
    "scope = 'user-library-read playlist-modify-private'\n",
    "username = 'alecxu'\n",
    "state = str(uuid.uuid4())\n",
    "scope = 'user-read-private user-read-email';\n",
    "\n",
    "moods.export_client_id('id.json')\n",
    "\n",
    "params = {    \n",
    "    'response_type': 'code',\n",
    "    'client_id': os.environ[\"SPOTIFY_CLIENT_ID\"],\n",
    "    'scope': scope,\n",
    "    'redirect_uri': os.environ[\"SPOTIFY_REDIRECT_URI\"],\n",
    "    'state': state}\n",
    "\n",
    "requests.get('https://accounts.spotify.com/authorize?', params=params)\n",
    "\n",
    "\n",
    "\n",
    "results = moods.get_all_songs(sp)"
   ]
  },
  {
   "cell_type": "code",
   "execution_count": null,
   "metadata": {},
   "outputs": [],
   "source": [
    "print(results[0])"
   ]
  },
  {
   "cell_type": "code",
   "execution_count": 4,
   "metadata": {},
   "outputs": [],
   "source": [
    "song_name_dict = {result['name'] : i for i, result in enumerate(results)}"
   ]
  },
  {
   "cell_type": "code",
   "execution_count": 6,
   "metadata": {},
   "outputs": [
    {
     "name": "stdout",
     "output_type": "stream",
     "text": [
      "{'album': {'album_type': 'album', 'artists': [{'external_urls': {'spotify': 'https://open.spotify.com/artist/3qm84nBOXUEQ2vnTfUTTFC'}, 'href': 'https://api.spotify.com/v1/artists/3qm84nBOXUEQ2vnTfUTTFC', 'id': '3qm84nBOXUEQ2vnTfUTTFC', 'name': \"Guns N' Roses\", 'type': 'artist', 'uri': 'spotify:artist:3qm84nBOXUEQ2vnTfUTTFC'}], 'external_urls': {'spotify': 'https://open.spotify.com/album/3I9Z1nDCL4E0cP62flcbI5'}, 'href': 'https://api.spotify.com/v1/albums/3I9Z1nDCL4E0cP62flcbI5', 'id': '3I9Z1nDCL4E0cP62flcbI5', 'images': [{'height': 640, 'url': 'https://i.scdn.co/image/ab67616d0000b27368384dd85fd5e95831252f60', 'width': 640}, {'height': 300, 'url': 'https://i.scdn.co/image/ab67616d00001e0268384dd85fd5e95831252f60', 'width': 300}, {'height': 64, 'url': 'https://i.scdn.co/image/ab67616d0000485168384dd85fd5e95831252f60', 'width': 64}], 'name': 'Appetite For Destruction', 'release_date': '1987-07-21', 'release_date_precision': 'day', 'total_tracks': 12, 'type': 'album', 'uri': 'spotify:album:3I9Z1nDCL4E0cP62flcbI5'}, 'artists': [{'external_urls': {'spotify': 'https://open.spotify.com/artist/3qm84nBOXUEQ2vnTfUTTFC'}, 'href': 'https://api.spotify.com/v1/artists/3qm84nBOXUEQ2vnTfUTTFC', 'id': '3qm84nBOXUEQ2vnTfUTTFC', 'name': \"Guns N' Roses\", 'type': 'artist', 'uri': 'spotify:artist:3qm84nBOXUEQ2vnTfUTTFC'}], 'disc_number': 1, 'duration_ms': 354520, 'explicit': True, 'external_ids': {'isrc': 'USGF18714809'}, 'external_urls': {'spotify': 'https://open.spotify.com/track/7o2CTH4ctstm8TNelqjb51'}, 'href': 'https://api.spotify.com/v1/tracks/7o2CTH4ctstm8TNelqjb51', 'id': '7o2CTH4ctstm8TNelqjb51', 'is_local': False, 'name': \"Sweet Child O' Mine\", 'popularity': 83, 'preview_url': None, 'track_number': 9, 'type': 'track', 'uri': 'spotify:track:7o2CTH4ctstm8TNelqjb51'}\n"
     ]
    }
   ],
   "source": [
    "print(results[1])"
   ]
  },
  {
   "cell_type": "markdown",
   "metadata": {},
   "source": [
    "# Get audio features for all liked songs"
   ]
  },
  {
   "cell_type": "code",
   "execution_count": null,
   "metadata": {},
   "outputs": [],
   "source": [
    "num_songs_total = sp.current_user_saved_tracks(limit=1)['total']\n",
    "uri_list = []\n",
    "for result in results:\n",
    "    uri_list.append(result[\"uri\"])\n",
    "\n",
    "audio_features = moods.get_audio_features(sp, uri_list)"
   ]
  },
  {
   "cell_type": "markdown",
   "metadata": {},
   "source": [
    "# Group Liked Songs using metadata"
   ]
  },
  {
   "cell_type": "markdown",
   "metadata": {},
   "source": [
    "# Extract \"Useful\" features for song recommendations"
   ]
  },
  {
   "cell_type": "markdown",
   "metadata": {},
   "source": [
    "*Useful features queried from spotify*\n",
    "1. 2. Danceability/Energy: Seems like gradient goes from more to less quite reliably, Seems highly correlated\n",
    "3. Mode: Major/Minor, very well clustered. COULD be useful or not should try out before conclusion\n",
    "4. Speechiness: All speechy songs are in one place, can probably use\n",
    "5. 6. Acousticness/Instrumentalness: Seems like instrumental is almost strictly superset, these are well clustered\n",
    "7. Liveness: seems well clusterd\n",
    "8. Valence: \"Happiness\" Seems very important although not the best clustered. Local clusters"
   ]
  },
  {
   "cell_type": "markdown",
   "metadata": {},
   "source": [
    "### Convert audio feature dict into numpy array for processing"
   ]
  },
  {
   "cell_type": "code",
   "execution_count": null,
   "metadata": {},
   "outputs": [],
   "source": [
    "import numpy as np\n",
    "af_used = ['danceability', 'energy', 'mode', 'speechiness', 'acousticness', 'instrumentalness', 'liveness', 'valence']\n",
    "audio_features_arr = np.zeros((num_songs_total, len(af_used)))\n",
    "\n",
    "for i in range(num_songs_total):\n",
    "    for j, audio_feature in enumerate(af_used):\n",
    "        audio_features_arr[i][j] = audio_features[i][audio_feature]"
   ]
  },
  {
   "cell_type": "markdown",
   "metadata": {},
   "source": [
    "## Standardize Data"
   ]
  },
  {
   "cell_type": "code",
   "execution_count": null,
   "metadata": {},
   "outputs": [],
   "source": [
    "from sklearn.decomposition import PCA\n",
    "from sklearn.preprocessing import StandardScaler\n",
    "import pandas as pd\n",
    "\n",
    "sc = StandardScaler()\n",
    "sc.fit(audio_features_arr)\n",
    "\n",
    "std_data = sc.transform(audio_features_arr)\n",
    "\n",
    "num_comp = 2\n",
    "pca = PCA(n_components=num_comp)\n",
    "pca.fit(std_data)\n",
    "pca_result = pca.transform(std_data)\n"
   ]
  },
  {
   "cell_type": "code",
   "execution_count": null,
   "metadata": {},
   "outputs": [],
   "source": [
    "from matplotlib import pyplot as plt\n",
    "import seaborn as sns\n",
    "def graph_embeddings(results: np.array, names: list, figsize=(5,5)):\n",
    "\n",
    "\n",
    "    df_data = pd.DataFrame(results, columns=['data-one', 'data-two'])\n",
    "\n",
    "    for i in range(len(names)):  \n",
    "        df_data['label'] = audio_features_arr[:,i]\n",
    "        plt.figure(figsize=figsize)\n",
    "        sns.scatterplot(\n",
    "            x=\"data-one\", y=\"data-two\",\n",
    "            hue=\"label\",\n",
    "            data=df_data,\n",
    "            alpha=0.5\n",
    "        )\n",
    "        plt.title(names[i])\n",
    "        plt.show() "
   ]
  },
  {
   "cell_type": "code",
   "execution_count": null,
   "metadata": {},
   "outputs": [],
   "source": [
    "from sklearn.manifold import TSNE\n",
    "import warnings\n",
    "warnings.filterwarnings('ignore')\n",
    "\n",
    "TSNE = TSNE(n_components=2, perplexity=50, n_iter=5000, learning_rate=200)\n",
    "tsne_results = TSNE.fit_transform(std_data)"
   ]
  },
  {
   "cell_type": "code",
   "execution_count": null,
   "metadata": {},
   "outputs": [],
   "source": [
    "graph_embeddings(tsne_results, af_used)"
   ]
  },
  {
   "cell_type": "code",
   "execution_count": null,
   "metadata": {},
   "outputs": [],
   "source": [
    "import umap\n",
    "umap_results = umap.UMAP().fit_transform(std_data)"
   ]
  },
  {
   "cell_type": "code",
   "execution_count": null,
   "metadata": {},
   "outputs": [],
   "source": [
    "graph_embeddings(umap_results, af_used)"
   ]
  },
  {
   "cell_type": "code",
   "execution_count": null,
   "metadata": {},
   "outputs": [],
   "source": [
    "song_name = \"Hope\"\n",
    "song_index = song_name_dict[song_name]\n",
    "song_coords = umap_results[song_index]\n",
    "\n",
    "sim_songs = moods.return_similar_songs(umap_results, song_coords, 30)\n",
    "song_names = {'recommendations': [results[res][\"name\"] for res in sim_songs]}\n",
    "song_names_df = pd.DataFrame.from_dict(song_names,orient='index').transpose()\n",
    "song_names_df"
   ]
  },
  {
   "cell_type": "code",
   "execution_count": null,
   "metadata": {},
   "outputs": [],
   "source": [
    "song_ids = [results[res][\"uri\"] for res in sim_songs]\n",
    "\n",
    "playlist_name = f\"songs similar to {song_name}\"\n",
    "playlist = sp.user_playlist_create(sp.current_user()['id'], playlist_name, public=True, collaborative=False, description=\"testing create playlist function\")\n",
    "playlist_results = sp.user_playlist_add_tracks(username, playlist['id'], song_ids)"
   ]
  }
 ],
 "metadata": {
  "kernelspec": {
   "display_name": "Python 3.10.4 ('spotify_moods')",
   "language": "python",
   "name": "python3"
  },
  "language_info": {
   "codemirror_mode": {
    "name": "ipython",
    "version": 3
   },
   "file_extension": ".py",
   "mimetype": "text/x-python",
   "name": "python",
   "nbconvert_exporter": "python",
   "pygments_lexer": "ipython3",
   "version": "3.10.5"
  },
  "orig_nbformat": 4,
  "vscode": {
   "interpreter": {
    "hash": "a0c1e4d562b5f812171e22f6ff609450df3e58f284a941217b67c967f7209e2f"
   }
  }
 },
 "nbformat": 4,
 "nbformat_minor": 2
}
